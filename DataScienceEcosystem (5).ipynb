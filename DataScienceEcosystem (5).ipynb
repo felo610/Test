{
 "cells": [
  {
   "cell_type": "markdown",
   "id": "af3a0473-656b-4260-b8ae-c34ec1205dca",
   "metadata": {},
   "source": [
    "## Data Science Tools and Ecosystem"
   ]
  },
  {
   "cell_type": "markdown",
   "id": "c545e3ca-3a2d-4219-bb3f-6587755b796f",
   "metadata": {},
   "source": [
    "In this notebook, Data Science Tools and Ecosystem are summarized.\n"
   ]
  },
  {
   "cell_type": "markdown",
   "id": "bd9676b3-60e7-43ee-a028-a8cc8777d628",
   "metadata": {},
   "source": [
    "**Objectives:**\n",
    "\n",
    "- List popular languages for Data Science  \n",
    "- List commonly used libraries for Data Science  \n",
    "- Create and format Markdown cells in Jupyter Notebook  \n",
    "- Perform simple arithmetic operations in Python  \n",
    "- List common Data Science tools  "
   ]
  },
  {
   "cell_type": "markdown",
   "id": "5689c2e9-80e3-404a-9aae-b8fcfd72158e",
   "metadata": {},
   "source": [
    "Some of the popular languages that Data Scientists use are:\n",
    "(Python ,R ,SQL) "
   ]
  },
  {
   "cell_type": "markdown",
   "id": "90489bba-4a15-4463-9730-f8c9fb72264d",
   "metadata": {},
   "source": [
    "Some of the commonly used libraries used by Data Scientists include:\n",
    "(Pandas , ggplot , matplotlib , seaborn )"
   ]
  },
  {
   "cell_type": "markdown",
   "id": "a86aa5ff-8085-45f3-9295-4a99ace23e1a",
   "metadata": {},
   "source": [
    "| Data Science Tools |\n",
    "|--------------------|\n",
    "| Jupyter Notebook   |\n",
    "| RStudio            |\n",
    "| Apache Zeppelin    |\n"
   ]
  },
  {
   "cell_type": "markdown",
   "id": "58313cf6-d504-4e20-88b4-77dbc7486823",
   "metadata": {},
   "source": [
    "### Below are a few examples of evaluating arithmetic expressions in Python."
   ]
  },
  {
   "cell_type": "code",
   "execution_count": 11,
   "id": "1b40ccf8-4623-4bad-a532-393443b7db33",
   "metadata": {},
   "outputs": [
    {
     "data": {
      "text/plain": [
       "17"
      ]
     },
     "execution_count": 11,
     "metadata": {},
     "output_type": "execute_result"
    }
   ],
   "source": [
    "# This is a simple arithmetic expression to multiply then add integers\n",
    "(3 * 4) + 5"
   ]
  },
  {
   "cell_type": "code",
   "execution_count": 12,
   "id": "991fc942-b3e6-4c28-8299-488c8494e5cc",
   "metadata": {},
   "outputs": [
    {
     "data": {
      "text/plain": [
       "3.3333333333333335"
      ]
     },
     "execution_count": 12,
     "metadata": {},
     "output_type": "execute_result"
    }
   ],
   "source": [
    "# This will convert 200 minutes to hours by diving by 60\n",
    "(200 / 60)"
   ]
  },
  {
   "cell_type": "markdown",
   "id": "b4a1ae47-2ee7-4f0e-b67e-33ed9251aa29",
   "metadata": {},
   "source": [
    "## Author\n",
    "Felopater Said"
   ]
  }
 ],
 "metadata": {
  "kernelspec": {
   "display_name": "Python 3 (ipykernel)",
   "language": "python",
   "name": "python3"
  },
  "language_info": {
   "codemirror_mode": {
    "name": "ipython",
    "version": 3
   },
   "file_extension": ".py",
   "mimetype": "text/x-python",
   "name": "python",
   "nbconvert_exporter": "python",
   "pygments_lexer": "ipython3",
   "version": "3.12.8"
  }
 },
 "nbformat": 4,
 "nbformat_minor": 5
}
